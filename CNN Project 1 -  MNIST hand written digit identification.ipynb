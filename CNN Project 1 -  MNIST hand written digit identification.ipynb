{
 "cells": [
  {
   "cell_type": "markdown",
   "metadata": {},
   "source": [
    "# Load the dataset"
   ]
  },
  {
   "cell_type": "code",
   "execution_count": 1,
   "metadata": {},
   "outputs": [],
   "source": [
    "#conda install -c conda-forge keras tensorflow\n",
    "import keras"
   ]
  },
  {
   "cell_type": "code",
   "execution_count": 2,
   "metadata": {},
   "outputs": [],
   "source": [
    "from keras.datasets import mnist"
   ]
  },
  {
   "cell_type": "code",
   "execution_count": 3,
   "metadata": {},
   "outputs": [],
   "source": [
    "#load mnist data\n",
    "(x_train, y_train), (x_test, y_test) = mnist.load_data()"
   ]
  },
  {
   "cell_type": "code",
   "execution_count": 4,
   "metadata": {},
   "outputs": [
    {
     "name": "stdout",
     "output_type": "stream",
     "text": [
      "Initial dimensions of the data: (60000, 28, 28)\n",
      "Number of samples in training data: 60000\n",
      "Number of Labels in training data: 60000\n",
      "Number of samples in test data: 10000\n",
      "Number of labels in test data: 10000\n"
     ]
    }
   ],
   "source": [
    "# print the shapes of samples\n",
    "print(\"Initial dimensions of the data:\", (x_train.shape))\n",
    "print(\"Number of samples in training data:\", len(x_train))\n",
    "print(\"Number of Labels in training data:\", len(y_train))\n",
    "print(\"Number of samples in test data:\", len(x_test))\n",
    "print(\"Number of labels in test data:\", len(y_test))"
   ]
  },
  {
   "cell_type": "markdown",
   "metadata": {},
   "source": [
    "# Visualising images using OpenCV"
   ]
  },
  {
   "cell_type": "code",
   "execution_count": 5,
   "metadata": {},
   "outputs": [],
   "source": [
    "import cv2\n",
    "import numpy as np"
   ]
  },
  {
   "cell_type": "code",
   "execution_count": 6,
   "metadata": {},
   "outputs": [],
   "source": [
    "# using openCV for visualising 6 random images from the dataset\n",
    "#for i in range(0, 6):\n",
    "   # random_num = np.random.randint(0, len(x_train))\n",
    "    #img = x_train[random_num]\n",
    "   # window_name = \"Random Sample Image #\" + str(i)\n",
    "   # cv2.imshow(window_name, img)\n",
    "   # cv2.waitKey(0)\n",
    "#cv2.destroyAllWindows()"
   ]
  },
  {
   "cell_type": "markdown",
   "metadata": {},
   "source": [
    "# Visualising images using Matplotlib"
   ]
  },
  {
   "cell_type": "code",
   "execution_count": 7,
   "metadata": {},
   "outputs": [],
   "source": [
    "import matplotlib.pyplot as plt"
   ]
  },
  {
   "cell_type": "code",
   "execution_count": 8,
   "metadata": {},
   "outputs": [
    {
     "data": {
      "image/png": "[encoded data removed]",
      "text/plain": [
       "<Figure size 432x288 with 6 Axes>"
      ]
     },
     "metadata": {
      "needs_background": "light"
     },
     "output_type": "display_data"
    }
   ],
   "source": [
    "# Plot 6 random images\n",
    "plt.subplot(331)  # subplot argument is nrows, ncols and index\n",
    "random_num = np.random.randint(0, len(x_train))\n",
    "plt.imshow(x_train[random_num], cmap = plt.get_cmap(\"gray\"))\n",
    "plt.subplot(332)\n",
    "random_num = np.random.randint(0, len(x_train))\n",
    "plt.imshow(x_train[random_num], cmap = plt.get_cmap(\"gray\"))\n",
    "plt.subplot(333)\n",
    "random_num = np.random.randint(0, len(x_train))\n",
    "plt.imshow(x_train[random_num], cmap = plt.get_cmap(\"gray\"))\n",
    "plt.subplot(334)\n",
    "random_num = np.random.randint(0, len(x_train))\n",
    "plt.imshow(x_train[random_num], cmap = plt.get_cmap(\"gray\"))\n",
    "plt.subplot(335)\n",
    "random_num = np.random.randint(0, len(x_train))\n",
    "plt.imshow(x_train[random_num], cmap = plt.get_cmap(\"gray\"))\n",
    "plt.subplot(336)\n",
    "random_num = np.random.randint(0, len(x_train))\n",
    "plt.imshow(x_train[random_num], cmap = plt.get_cmap(\"gray\"))\n",
    "# Display all plots\n",
    "plt.show()"
   ]
  },
  {
   "cell_type": "markdown",
   "metadata": {},
   "source": [
    "# Reshaping the input according to keras"
   ]
  },
  {
   "cell_type": "code",
   "execution_count": 9,
   "metadata": {},
   "outputs": [],
   "source": [
    "# keras accepts the input in form of number of samples, Rows, Columns, Depth\n",
    "# shape of our samples is 60000, 28, 28 so we need to add depth dimension to it\n",
    "# New shape should be 60000, 28, 28, 1 (if the data were in color it could be 60000, 28, 28, 3)"
   ]
  },
  {
   "cell_type": "code",
   "execution_count": 10,
   "metadata": {},
   "outputs": [
    {
     "name": "stdout",
     "output_type": "stream",
     "text": [
      "28\n",
      "28\n"
     ]
    }
   ],
   "source": [
    "# Lets store number of rows and columns\n",
    "img_rows = x_train[0].shape[0]\n",
    "img_cols = x_train[1].shape[0]\n",
    "print(img_rows)\n",
    "print(img_cols)"
   ]
  },
  {
   "cell_type": "code",
   "execution_count": 11,
   "metadata": {},
   "outputs": [
    {
     "name": "stdout",
     "output_type": "stream",
     "text": [
      "Shape of x train: (60000, 28, 28, 1)\n"
     ]
    }
   ],
   "source": [
    "# reshape\n",
    "x_train = x_train.reshape(x_train.shape[0], img_rows, img_cols, 1)\n",
    "x_test = x_test.reshape(x_test.shape[0], img_rows, img_cols, 1)\n",
    "# Change the image type to fload32\n",
    "x_train = x_train.astype(\"float32\")\n",
    "x_test = x_test.astype(\"float32\")\n",
    "print(\"Shape of x train:\", x_train.shape)"
   ]
  },
  {
   "cell_type": "code",
   "execution_count": 12,
   "metadata": {},
   "outputs": [],
   "source": [
    "# Normalise the images from (0 to 255) to (0 to 1)\n",
    "x_train = x_train/255.0\n",
    "x_test = x_test/255.0"
   ]
  },
  {
   "cell_type": "markdown",
   "metadata": {},
   "source": [
    "# One hot Encoding of Labels"
   ]
  },
  {
   "cell_type": "code",
   "execution_count": 13,
   "metadata": {},
   "outputs": [],
   "source": [
    "# Labels are in the form y_train = [0, 6, 4, 7, 2, 4, 1, 0, 5, 8] which need one hot encoding"
   ]
  },
  {
   "cell_type": "code",
   "execution_count": 14,
   "metadata": {},
   "outputs": [],
   "source": [
    "from keras.utils import np_utils"
   ]
  },
  {
   "cell_type": "code",
   "execution_count": 15,
   "metadata": {},
   "outputs": [
    {
     "name": "stdout",
     "output_type": "stream",
     "text": [
      "Number of classes:10\n"
     ]
    }
   ],
   "source": [
    "# one hot encode the label outputs\n",
    "y_train = np_utils.to_categorical(y_train)\n",
    "y_test = np_utils.to_categorical(y_test)\n",
    "# print number of classes available in labels\n",
    "print(\"Number of classes:\"+str(y_test.shape[1]))"
   ]
  },
  {
   "cell_type": "markdown",
   "metadata": {},
   "source": [
    "# Create the Model"
   ]
  },
  {
   "cell_type": "code",
   "execution_count": 16,
   "metadata": {},
   "outputs": [],
   "source": [
    "import keras\n",
    "from keras.models import Sequential\n",
    "from keras.layers import Dense, Dropout, Flatten\n",
    "from keras.layers import Conv2D, MaxPooling2D\n",
    "from keras.optimizers import SGD"
   ]
  },
  {
   "cell_type": "code",
   "execution_count": 17,
   "metadata": {},
   "outputs": [],
   "source": [
    "input_shape = (img_rows, img_cols, 1)\n",
    "num_classes = y_test.shape[1]"
   ]
  },
  {
   "cell_type": "code",
   "execution_count": 18,
   "metadata": {},
   "outputs": [],
   "source": [
    "opt = SGD(lr =0.01, momentum= 0.9)"
   ]
  },
  {
   "cell_type": "code",
   "execution_count": 19,
   "metadata": {},
   "outputs": [
    {
     "name": "stdout",
     "output_type": "stream",
     "text": [
      "Model: \"sequential\"\n",
      "_________________________________________________________________\n",
      "Layer (type)                 Output Shape              Param #   \n",
      "=================================================================\n",
      "conv2d (Conv2D)              (None, 26, 26, 32)        320       \n",
      "_________________________________________________________________\n",
      "conv2d_1 (Conv2D)            (None, 24, 24, 64)        18496     \n",
      "_________________________________________________________________\n",
      "max_pooling2d (MaxPooling2D) (None, 12, 12, 64)        0         \n",
      "_________________________________________________________________\n",
      "dropout (Dropout)            (None, 12, 12, 64)        0         \n",
      "_________________________________________________________________\n",
      "flatten (Flatten)            (None, 9216)              0         \n",
      "_________________________________________________________________\n",
      "dense (Dense)                (None, 128)               1179776   \n",
      "_________________________________________________________________\n",
      "dropout_1 (Dropout)          (None, 128)               0         \n",
      "_________________________________________________________________\n",
      "dense_1 (Dense)              (None, 10)                1290      \n",
      "=================================================================\n",
      "Total params: 1,199,882\n",
      "Trainable params: 1,199,882\n",
      "Non-trainable params: 0\n",
      "_________________________________________________________________\n",
      "None\n"
     ]
    }
   ],
   "source": [
    "# create model\n",
    "model = Sequential()\n",
    "model.add(Conv2D(32, kernel_size =(3, 3), activation = \"relu\", input_shape = input_shape))\n",
    "model.add(Conv2D(64, (3, 3), activation = \"relu\"))\n",
    "model.add(MaxPooling2D(pool_size = (2, 2)))\n",
    "model.add(Dropout(0.25))\n",
    "model.add(Flatten())\n",
    "model.add(Dense(128, activation=\"relu\"))\n",
    "model.add(Dropout(0.5))\n",
    "model.add(Dense(num_classes, activation = \"softmax\"))\n",
    "\n",
    "# compile the model\n",
    "model.compile(loss = \"categorical_crossentropy\", optimizer = opt, metrics = [\"accuracy\"])\n",
    "\n",
    "# Print model summary\n",
    "print(model.summary())"
   ]
  },
  {
   "cell_type": "markdown",
   "metadata": {},
   "source": [
    "# Train the model"
   ]
  },
  {
   "cell_type": "code",
   "execution_count": 20,
   "metadata": {},
   "outputs": [
    {
     "data": {
      "text/plain": [
       "(60000, 28, 28, 1)"
      ]
     },
     "execution_count": 20,
     "metadata": {},
     "output_type": "execute_result"
    }
   ],
   "source": [
    "x_train.shape"
   ]
  },
  {
   "cell_type": "code",
   "execution_count": 21,
   "metadata": {},
   "outputs": [
    {
     "data": {
      "text/plain": [
       "(60000, 10)"
      ]
     },
     "execution_count": 21,
     "metadata": {},
     "output_type": "execute_result"
    }
   ],
   "source": [
    "y_train.shape"
   ]
  },
  {
   "cell_type": "code",
   "execution_count": 22,
   "metadata": {},
   "outputs": [
    {
     "data": {
      "text/plain": [
       "(10000, 28, 28, 1)"
      ]
     },
     "execution_count": 22,
     "metadata": {},
     "output_type": "execute_result"
    }
   ],
   "source": [
    "x_test.shape"
   ]
  },
  {
   "cell_type": "code",
   "execution_count": 23,
   "metadata": {},
   "outputs": [
    {
     "data": {
      "text/plain": [
       "(10000, 10)"
      ]
     },
     "execution_count": 23,
     "metadata": {},
     "output_type": "execute_result"
    }
   ],
   "source": [
    "y_test.shape"
   ]
  },
  {
   "cell_type": "code",
   "execution_count": 24,
   "metadata": {},
   "outputs": [
    {
     "name": "stdout",
     "output_type": "stream",
     "text": [
      "1875/1875 [==============================] - 94s 50ms/step - loss: 0.2664 - accuracy: 0.9177 - val_loss: 0.0664 - val_accuracy: 0.9797\n",
      "Test loss: 0.0663556382060051\n",
      "Test accuracy: 0.9797000288963318\n"
     ]
    }
   ],
   "source": [
    "batch_size = 32\n",
    "epochs = 10\n",
    "# verbose shows how much information we want to see during fitting...generally verbose = 1 \n",
    "history = model.fit(x_train, y_train, batch_size = 32, epochs= 1, verbose = 1, validation_data = (x_test, y_test))\n",
    "# Evaluate the model\n",
    "score = model.evaluate(x_test, y_test, verbose =0)\n",
    "print(\"Test loss:\", score[0])\n",
    "print(\"Test accuracy:\", score[1])"
   ]
  },
  {
   "cell_type": "code",
   "execution_count": 25,
   "metadata": {},
   "outputs": [],
   "source": [
    "import matplotlib.pyplot as plt"
   ]
  },
  {
   "cell_type": "code",
   "execution_count": 26,
   "metadata": {},
   "outputs": [
    {
     "data": {
      "image/png": "[encoded data removed]",
      "text/plain": [
       "<Figure size 432x288 with 1 Axes>"
      ]
     },
     "metadata": {
      "needs_background": "light"
     },
     "output_type": "display_data"
    }
   ],
   "source": [
    "history_dict = history.history\n",
    "loss_values = history_dict[\"loss\"]\n",
    "val_loss_values = history_dict[\"val_loss\"]\n",
    "epochs =range(1, len(loss_values)+1)\n",
    "line1 = plt.plot(epochs, val_loss_values, label = \"Validation/Test loss\")\n",
    "line2 = plt.plot(epochs, loss_values, label = \"Training loss\")\n",
    "plt.setp(line1, linewidth =2.0, marker = \"+\", markersize = 10.0)\n",
    "plt.setp(line2, linewidth =2.0, marker = \"4\", markersize = 10.0)\n",
    "plt.xlabel(\"Epochs\")\n",
    "plt.ylabel(\"Loss\")\n",
    "plt.grid(True)\n",
    "plt.legend()\n",
    "plt.show()"
   ]
  },
  {
   "cell_type": "markdown",
   "metadata": {},
   "source": [
    "# saving the model"
   ]
  },
  {
   "cell_type": "code",
   "execution_count": 27,
   "metadata": {},
   "outputs": [
    {
     "name": "stdout",
     "output_type": "stream",
     "text": [
      "Model saved\n"
     ]
    }
   ],
   "source": [
    "model.save(\"MNIST_hand_written_digit_identification.h5\")\n",
    "print(\"Model saved\")"
   ]
  },
  {
   "cell_type": "markdown",
   "metadata": {},
   "source": [
    "# Loading saved model"
   ]
  },
  {
   "cell_type": "code",
   "execution_count": 28,
   "metadata": {},
   "outputs": [],
   "source": [
    "from keras.models import load_model\n",
    "classifier = load_model(\"MNIST_hand_written_digit_identification.h5\")"
   ]
  },
  {
   "cell_type": "markdown",
   "metadata": {},
   "source": [
    "# Input some test data into the classifier"
   ]
  },
  {
   "cell_type": "code",
   "execution_count": 29,
   "metadata": {},
   "outputs": [
    {
     "name": "stdout",
     "output_type": "stream",
     "text": [
      "WARNING:tensorflow:From <ipython-input-29-acdc0063a67a>:16: Sequential.predict_classes (from tensorflow.python.keras.engine.sequential) is deprecated and will be removed after 2021-01-01.\n",
      "Instructions for updating:\n",
      "Please use instead:* `np.argmax(model.predict(x), axis=-1)`,   if your model does multi-class classification   (e.g. if it uses a `softmax` last-layer activation).* `(model.predict(x) > 0.5).astype(\"int32\")`,   if your model does binary classification   (e.g. if it uses a `sigmoid` last-layer activation).\n"
     ]
    }
   ],
   "source": [
    "def draw_test(name, pred, input_im):\n",
    "    BLACK = [0,0,0]\n",
    "    expanded_image = cv2.copyMakeBorder(input_im, 0, 0, 0, imageL.shape[0], cv2.BORDER_CONSTANT, value= BLACK)\n",
    "    expanded_image = cv2.cvtColor(expanded_image, cv2.COLOR_GRAY2BGR)\n",
    "    cv2.putText(expanded_image, str(pred), (152, 70), cv2.FONT_HERSHEY_SIMPLEX, 4, (0,255,0), 2)\n",
    "    #cv2.imshow(name, expanded_image)\n",
    "\n",
    "for i in range(0, 10):\n",
    "    rand = np.random.randint(0, len(x_test))\n",
    "    input_im = x_test[rand]\n",
    "    \n",
    "    imageL = cv2.resize(input_im, None, fx=4, fy=4, interpolation = cv2.INTER_CUBIC)\n",
    "    input_im = input_im.reshape(1,28,28,1)\n",
    "    \n",
    "    # Get predictions\n",
    "    res = str(classifier.predict_classes(input_im, 1, verbose=0)[0])\n",
    "    \n",
    "    draw_test(\"Predictions\", res, imageL)\n",
    "    #cv2.waitKey(0)\n",
    "#cv2.destroyALLWindows()\n"
   ]
  },
  {
   "cell_type": "code",
   "execution_count": 34,
   "metadata": {},
   "outputs": [
    {
     "name": "stdout",
     "output_type": "stream",
     "text": [
      "Collecting package metadata (current_repodata.json): ...working... done\n",
      "Note: you may need to restart the kernel to use updated packages.\n",
      "Solving environment: ...working... done\n",
      "\n",
      "## Package Plan ##\n",
      "\n",
      "  environment location: C:\\Users\\MKR\\anaconda3\n",
      "\n",
      "  added / updated specs:\n",
      "    - graphviz\n",
      "    - pydot\n",
      "\n",
      "\n",
      "The following packages will be downloaded:\n",
      "\n",
      "    package                    |            build\n",
      "    ---------------------------|-----------------\n",
      "    graphviz-2.38              |       hfd603c8_2        29.3 MB\n",
      "    pydot-1.4.2                |   py38haa244fe_0          43 KB  conda-forge\n",
      "    ------------------------------------------------------------\n",
      "                                           Total:        29.3 MB\n",
      "\n",
      "The following NEW packages will be INSTALLED:\n",
      "\n",
      "  graphviz           pkgs/main/win-64::graphviz-2.38-hfd603c8_2\n",
      "  pydot              conda-forge/win-64::pydot-1.4.2-py38haa244fe_0\n",
      "\n",
      "\n",
      "\n",
      "Downloading and Extracting Packages\n",
      "\n",
      "graphviz-2.38        | 29.3 MB   |            |   0% \n",
      "graphviz-2.38        | 29.3 MB   |            |   0% \n",
      "graphviz-2.38        | 29.3 MB   |            |   0% \n",
      "graphviz-2.38        | 29.3 MB   |            |   1% \n",
      "graphviz-2.38        | 29.3 MB   |            |   1% \n",
      "graphviz-2.38        | 29.3 MB   | 1          |   1% \n",
      "\n",
      "graphviz-2.38        | 29.3 MB   | 1          |   1% \n",
      "graphviz-2.38        | 29.3 MB   | 1          |   2% \n",
      "graphviz-2.38        | 29.3 MB   | 1          |   2% \n",
      "graphviz-2.38        | 29.3 MB   | 2          |   2% \n",
      "graphviz-2.38        | 29.3 MB   | 2          |   2% \n",
      "graphviz-2.38        | 29.3 MB   | 2          |   3% \n",
      "graphviz-2.38        | 29.3 MB   | 2          |   3% \n",
      "graphviz-2.38        | 29.3 MB   | 3          |   3% \n",
      "graphviz-2.38        | 29.3 MB   | 3          |   4% \n",
      "graphviz-2.38        | 29.3 MB   | 3          |   4% \n",
      "graphviz-2.38        | 29.3 MB   | 4          |   4% \n",
      "graphviz-2.38        | 29.3 MB   | 4          |   4% \n",
      "graphviz-2.38        | 29.3 MB   | 4          |   5% \n",
      "graphviz-2.38        | 29.3 MB   | 4          |   5% \n",
      "graphviz-2.38        | 29.3 MB   | 5          |   5% \n",
      "graphviz-2.38        | 29.3 MB   | 5          |   5% \n",
      "graphviz-2.38        | 29.3 MB   | 5          |   6% \n",
      "graphviz-2.38        | 29.3 MB   | 6          |   6% \n",
      "graphviz-2.38        | 29.3 MB   | 6          |   6% \n",
      "graphviz-2.38        | 29.3 MB   | 6          |   7% \n",
      "graphviz-2.38        | 29.3 MB   | 6          |   7% \n",
      "graphviz-2.38        | 29.3 MB   | 7          |   7% \n",
      "graphviz-2.38        | 29.3 MB   | 7          |   7% \n",
      "graphviz-2.38        | 29.3 MB   | 7          |   8% \n",
      "graphviz-2.38        | 29.3 MB   | 7          |   8% \n",
      "graphviz-2.38        | 29.3 MB   | 8          |   8% \n",
      "graphviz-2.38        | 29.3 MB   | 8          |   8% \n",
      "graphviz-2.38        | 29.3 MB   | 8          |   9% \n",
      "graphviz-2.38        | 29.3 MB   | 9          |   9% \n",
      "graphviz-2.38        | 29.3 MB   | 9          |   9% \n",
      "graphviz-2.38        | 29.3 MB   | 9          |  10% \n",
      "graphviz-2.38        | 29.3 MB   | 9          |  10% \n",
      "graphviz-2.38        | 29.3 MB   | #          |  10% \n",
      "graphviz-2.38        | 29.3 MB   | #          |  10% \n",
      "graphviz-2.38        | 29.3 MB   | #          |  11% \n",
      "graphviz-2.38        | 29.3 MB   | #1         |  11% \n",
      "graphviz-2.38        | 29.3 MB   | #1         |  11% \n",
      "graphviz-2.38        | 29.3 MB   | #1         |  12% \n",
      "graphviz-2.38        | 29.3 MB   | #1         |  12% \n",
      "graphviz-2.38        | 29.3 MB   | #2         |  12% \n",
      "graphviz-2.38        | 29.3 MB   | #2         |  12% \n",
      "graphviz-2.38        | 29.3 MB   | #2         |  13% \n",
      "graphviz-2.38        | 29.3 MB   | #3         |  13% \n",
      "graphviz-2.38        | 29.3 MB   | #3         |  13% \n",
      "graphviz-2.38        | 29.3 MB   | #3         |  14% \n",
      "graphviz-2.38        | 29.3 MB   | #3         |  14% \n",
      "graphviz-2.38        | 29.3 MB   | #4         |  14% \n",
      "graphviz-2.38        | 29.3 MB   | #4         |  14% \n",
      "graphviz-2.38        | 29.3 MB   | #4         |  15% \n",
      "graphviz-2.38        | 29.3 MB   | #4         |  15% \n",
      "graphviz-2.38        | 29.3 MB   | #5         |  15% \n",
      "graphviz-2.38        | 29.3 MB   | #5         |  15% \n",
      "graphviz-2.38        | 29.3 MB   | #5         |  16% \n",
      "graphviz-2.38        | 29.3 MB   | #5         |  16% \n",
      "graphviz-2.38        | 29.3 MB   | #6         |  16% \n",
      "graphviz-2.38        | 29.3 MB   | #6         |  16% \n",
      "graphviz-2.38        | 29.3 MB   | #6         |  17% \n",
      "graphviz-2.38        | 29.3 MB   | #7         |  17% \n",
      "graphviz-2.38        | 29.3 MB   | #7         |  17% \n",
      "graphviz-2.38        | 29.3 MB   | #7         |  18% \n",
      "graphviz-2.38        | 29.3 MB   | #7         |  18% \n",
      "graphviz-2.38        | 29.3 MB   | #8         |  18% \n",
      "graphviz-2.38        | 29.3 MB   | #8         |  18% \n",
      "graphviz-2.38        | 29.3 MB   | #8         |  19% \n",
      "graphviz-2.38        | 29.3 MB   | #8         |  19% \n",
      "graphviz-2.38        | 29.3 MB   | #9         |  19% \n",
      "graphviz-2.38        | 29.3 MB   | #9         |  19% \n",
      "graphviz-2.38        | 29.3 MB   | #9         |  20% \n",
      "graphviz-2.38        | 29.3 MB   | #9         |  20% \n",
      "graphviz-2.38        | 29.3 MB   | ##         |  20% \n",
      "graphviz-2.38        | 29.3 MB   | ##         |  20% \n",
      "graphviz-2.38        | 29.3 MB   | ##         |  21% \n",
      "graphviz-2.38        | 29.3 MB   | ##1        |  21% \n",
      "graphviz-2.38        | 29.3 MB   | ##1        |  21% \n",
      "graphviz-2.38        | 29.3 MB   | ##1        |  22% \n",
      "graphviz-2.38        | 29.3 MB   | ##1        |  22% \n",
      "graphviz-2.38        | 29.3 MB   | ##2        |  22% \n",
      "graphviz-2.38        | 29.3 MB   | ##2        |  22% \n",
      "graphviz-2.38        | 29.3 MB   | ##2        |  23% \n",
      "graphviz-2.38        | 29.3 MB   | ##2        |  23% \n",
      "graphviz-2.38        | 29.3 MB   | ##3        |  23% \n",
      "graphviz-2.38        | 29.3 MB   | ##3        |  23% \n",
      "graphviz-2.38        | 29.3 MB   | ##3        |  24% \n",
      "graphviz-2.38        | 29.3 MB   | ##3        |  24% \n",
      "graphviz-2.38        | 29.3 MB   | ##4        |  24% \n",
      "graphviz-2.38        | 29.3 MB   | ##4        |  24% \n",
      "graphviz-2.38        | 29.3 MB   | ##4        |  25% \n",
      "graphviz-2.38        | 29.3 MB   | ##5        |  25% \n",
      "graphviz-2.38        | 29.3 MB   | ##5        |  25% \n",
      "graphviz-2.38        | 29.3 MB   | ##5        |  26% \n",
      "graphviz-2.38        | 29.3 MB   | ##5        |  26% \n",
      "graphviz-2.38        | 29.3 MB   | ##6        |  26% \n",
      "graphviz-2.38        | 29.3 MB   | ##6        |  26% \n",
      "graphviz-2.38        | 29.3 MB   | ##6        |  27% \n",
      "graphviz-2.38        | 29.3 MB   | ##6        |  27% \n",
      "graphviz-2.38        | 29.3 MB   | ##7        |  27% \n",
      "graphviz-2.38        | 29.3 MB   | ##7        |  27% \n",
      "graphviz-2.38        | 29.3 MB   | ##7        |  28% \n",
      "graphviz-2.38        | 29.3 MB   | ##8        |  28% \n",
      "graphviz-2.38        | 29.3 MB   | ##8        |  28% \n",
      "graphviz-2.38        | 29.3 MB   | ##8        |  29% \n",
      "graphviz-2.38        | 29.3 MB   | ##8        |  29% \n",
      "graphviz-2.38        | 29.3 MB   | ##9        |  29% \n",
      "graphviz-2.38        | 29.3 MB   | ##9        |  29% \n",
      "graphviz-2.38        | 29.3 MB   | ##9        |  30% \n",
      "graphviz-2.38        | 29.3 MB   | ##9        |  30% \n",
      "graphviz-2.38        | 29.3 MB   | ###        |  30% \n",
      "graphviz-2.38        | 29.3 MB   | ###        |  30% \n",
      "graphviz-2.38        | 29.3 MB   | ###        |  31% \n",
      "graphviz-2.38        | 29.3 MB   | ###        |  31% \n",
      "graphviz-2.38        | 29.3 MB   | ###1       |  31% \n",
      "graphviz-2.38        | 29.3 MB   | ###1       |  32% \n",
      "graphviz-2.38        | 29.3 MB   | ###1       |  32% \n",
      "graphviz-2.38        | 29.3 MB   | ###2       |  32% \n",
      "graphviz-2.38        | 29.3 MB   | ###2       |  32% \n",
      "graphviz-2.38        | 29.3 MB   | ###2       |  33% \n",
      "graphviz-2.38        | 29.3 MB   | ###2       |  33% \n",
      "graphviz-2.38        | 29.3 MB   | ###3       |  33% \n",
      "graphviz-2.38        | 29.3 MB   | ###3       |  33% \n",
      "graphviz-2.38        | 29.3 MB   | ###3       |  34% \n",
      "graphviz-2.38        | 29.3 MB   | ###3       |  34% \n",
      "graphviz-2.38        | 29.3 MB   | ###4       |  34% \n",
      "graphviz-2.38        | 29.3 MB   | ###4       |  34% \n",
      "graphviz-2.38        | 29.3 MB   | ###4       |  35% \n",
      "graphviz-2.38        | 29.3 MB   | ###4       |  35% \n",
      "graphviz-2.38        | 29.3 MB   | ###5       |  35% \n",
      "graphviz-2.38        | 29.3 MB   | ###5       |  36% \n",
      "graphviz-2.38        | 29.3 MB   | ###5       |  36% \n",
      "graphviz-2.38        | 29.3 MB   | ###6       |  36% \n",
      "graphviz-2.38        | 29.3 MB   | ###6       |  36% \n",
      "graphviz-2.38        | 29.3 MB   | ###6       |  37% \n",
      "graphviz-2.38        | 29.3 MB   | ###6       |  37% \n",
      "graphviz-2.38        | 29.3 MB   | ###7       |  37% \n",
      "graphviz-2.38        | 29.3 MB   | ###7       |  37% \n",
      "graphviz-2.38        | 29.3 MB   | ###7       |  38% \n",
      "graphviz-2.38        | 29.3 MB   | ###7       |  38% \n",
      "graphviz-2.38        | 29.3 MB   | ###8       |  38% \n",
      "graphviz-2.38        | 29.3 MB   | ###8       |  39% \n",
      "graphviz-2.38        | 29.3 MB   | ###8       |  39% \n",
      "graphviz-2.38        | 29.3 MB   | ###9       |  39% \n",
      "graphviz-2.38        | 29.3 MB   | ###9       |  39% \n",
      "graphviz-2.38        | 29.3 MB   | ###9       |  40% \n",
      "graphviz-2.38        | 29.3 MB   | ###9       |  40% \n",
      "graphviz-2.38        | 29.3 MB   | ####       |  40% \n",
      "graphviz-2.38        | 29.3 MB   | ####       |  40% \n",
      "graphviz-2.38        | 29.3 MB   | ####       |  41% \n",
      "graphviz-2.38        | 29.3 MB   | ####       |  41% \n",
      "graphviz-2.38        | 29.3 MB   | ####1      |  41% \n",
      "graphviz-2.38        | 29.3 MB   | ####1      |  41% \n",
      "graphviz-2.38        | 29.3 MB   | ####1      |  42% \n",
      "graphviz-2.38        | 29.3 MB   | ####1      |  42% \n",
      "graphviz-2.38        | 29.3 MB   | ####2      |  42% \n",
      "graphviz-2.38        | 29.3 MB   | ####2      |  43% \n",
      "graphviz-2.38        | 29.3 MB   | ####2      |  43% \n",
      "graphviz-2.38        | 29.3 MB   | ####3      |  43% \n",
      "graphviz-2.38        | 29.3 MB   | ####3      |  43% \n",
      "graphviz-2.38        | 29.3 MB   | ####3      |  44% \n",
      "graphviz-2.38        | 29.3 MB   | ####3      |  44% \n",
      "graphviz-2.38        | 29.3 MB   | ####4      |  44% \n",
      "graphviz-2.38        | 29.3 MB   | ####4      |  44% \n",
      "graphviz-2.38        | 29.3 MB   | ####4      |  45% \n",
      "graphviz-2.38        | 29.3 MB   | ####4      |  45% \n",
      "graphviz-2.38        | 29.3 MB   | ####5      |  45% \n",
      "graphviz-2.38        | 29.3 MB   | ####5      |  45% \n",
      "graphviz-2.38        | 29.3 MB   | ####5      |  46% \n",
      "graphviz-2.38        | 29.3 MB   | ####5      |  46% \n",
      "graphviz-2.38        | 29.3 MB   | ####6      |  46% \n",
      "graphviz-2.38        | 29.3 MB   | ####6      |  47% \n",
      "graphviz-2.38        | 29.3 MB   | ####6      |  47% \n",
      "graphviz-2.38        | 29.3 MB   | ####7      |  47% \n",
      "graphviz-2.38        | 29.3 MB   | ####7      |  47% \n",
      "graphviz-2.38        | 29.3 MB   | ####7      |  48% \n",
      "graphviz-2.38        | 29.3 MB   | ####7      |  48% \n",
      "graphviz-2.38        | 29.3 MB   | ####8      |  48% \n",
      "graphviz-2.38        | 29.3 MB   | ####8      |  48% \n",
      "graphviz-2.38        | 29.3 MB   | ####8      |  49% \n",
      "graphviz-2.38        | 29.3 MB   | ####8      |  49% \n",
      "graphviz-2.38        | 29.3 MB   | ####9      |  49% \n",
      "graphviz-2.38        | 29.3 MB   | ####9      |  49% \n",
      "graphviz-2.38        | 29.3 MB   | ####9      |  50% \n",
      "graphviz-2.38        | 29.3 MB   | ####9      |  50% \n",
      "graphviz-2.38        | 29.3 MB   | #####      |  50% \n",
      "graphviz-2.38        | 29.3 MB   | #####      |  51% \n",
      "graphviz-2.38        | 29.3 MB   | #####      |  51% \n",
      "graphviz-2.38        | 29.3 MB   | #####1     |  51% \n",
      "graphviz-2.38        | 29.3 MB   | #####1     |  51% \n",
      "graphviz-2.38        | 29.3 MB   | #####1     |  52% \n",
      "graphviz-2.38        | 29.3 MB   | #####1     |  52% \n",
      "graphviz-2.38        | 29.3 MB   | #####2     |  52% \n",
      "graphviz-2.38        | 29.3 MB   | #####2     |  52% \n",
      "graphviz-2.38        | 29.3 MB   | #####2     |  53% \n",
      "graphviz-2.38        | 29.3 MB   | #####2     |  53% \n",
      "graphviz-2.38        | 29.3 MB   | #####3     |  53% \n",
      "graphviz-2.38        | 29.3 MB   | #####3     |  53% \n",
      "graphviz-2.38        | 29.3 MB   | #####3     |  54% \n",
      "graphviz-2.38        | 29.3 MB   | #####4     |  54% \n",
      "graphviz-2.38        | 29.3 MB   | #####4     |  54% \n",
      "graphviz-2.38        | 29.3 MB   | #####4     |  55% \n",
      "graphviz-2.38        | 29.3 MB   | #####4     |  55% \n",
      "graphviz-2.38        | 29.3 MB   | #####5     |  55% \n",
      "graphviz-2.38        | 29.3 MB   | #####5     |  55% \n",
      "graphviz-2.38        | 29.3 MB   | #####5     |  56% \n",
      "graphviz-2.38        | 29.3 MB   | #####5     |  56% \n",
      "graphviz-2.38        | 29.3 MB   | #####6     |  56% \n",
      "graphviz-2.38        | 29.3 MB   | #####6     |  56% \n",
      "graphviz-2.38        | 29.3 MB   | #####6     |  57% \n",
      "graphviz-2.38        | 29.3 MB   | #####6     |  57% \n",
      "graphviz-2.38        | 29.3 MB   | #####7     |  57% \n",
      "graphviz-2.38        | 29.3 MB   | #####7     |  57% \n",
      "graphviz-2.38        | 29.3 MB   | #####7     |  58% \n",
      "graphviz-2.38        | 29.3 MB   | #####8     |  58% \n",
      "graphviz-2.38        | 29.3 MB   | #####8     |  58% \n",
      "graphviz-2.38        | 29.3 MB   | #####8     |  59% \n",
      "graphviz-2.38        | 29.3 MB   | #####8     |  59% \n",
      "graphviz-2.38        | 29.3 MB   | #####9     |  59% \n",
      "graphviz-2.38        | 29.3 MB   | #####9     |  59% \n",
      "graphviz-2.38        | 29.3 MB   | #####9     |  60% \n",
      "graphviz-2.38        | 29.3 MB   | #####9     |  60% \n",
      "graphviz-2.38        | 29.3 MB   | ######     |  60% \n",
      "graphviz-2.38        | 29.3 MB   | ######     |  60% \n",
      "graphviz-2.38        | 29.3 MB   | ######     |  61% \n",
      "graphviz-2.38        | 29.3 MB   | ######1    |  61% \n",
      "graphviz-2.38        | 29.3 MB   | ######1    |  61% \n",
      "graphviz-2.38        | 29.3 MB   | ######1    |  62% \n",
      "graphviz-2.38        | 29.3 MB   | ######1    |  62% \n",
      "graphviz-2.38        | 29.3 MB   | ######2    |  62% \n",
      "graphviz-2.38        | 29.3 MB   | ######2    |  62% \n",
      "graphviz-2.38        | 29.3 MB   | ######2    |  63% \n",
      "graphviz-2.38        | 29.3 MB   | ######2    |  63% \n",
      "graphviz-2.38        | 29.3 MB   | ######3    |  63% \n",
      "graphviz-2.38        | 29.3 MB   | ######3    |  63% \n",
      "graphviz-2.38        | 29.3 MB   | ######3    |  64% \n",
      "graphviz-2.38        | 29.3 MB   | ######3    |  64% \n",
      "graphviz-2.38        | 29.3 MB   | ######4    |  64% \n",
      "graphviz-2.38        | 29.3 MB   | ######4    |  64% \n",
      "graphviz-2.38        | 29.3 MB   | ######4    |  65% \n",
      "graphviz-2.38        | 29.3 MB   | ######5    |  65% \n",
      "graphviz-2.38        | 29.3 MB   | ######5    |  65% \n",
      "graphviz-2.38        | 29.3 MB   | ######5    |  66% \n",
      "graphviz-2.38        | 29.3 MB   | ######5    |  66% \n",
      "graphviz-2.38        | 29.3 MB   | ######6    |  66% \n",
      "graphviz-2.38        | 29.3 MB   | ######6    |  66% \n",
      "graphviz-2.38        | 29.3 MB   | ######6    |  67% \n",
      "graphviz-2.38        | 29.3 MB   | ######6    |  67% \n",
      "graphviz-2.38        | 29.3 MB   | ######7    |  67% \n",
      "graphviz-2.38        | 29.3 MB   | ######7    |  67% \n",
      "graphviz-2.38        | 29.3 MB   | ######7    |  68% \n",
      "graphviz-2.38        | 29.3 MB   | ######7    |  68% \n",
      "graphviz-2.38        | 29.3 MB   | ######8    |  68% \n",
      "graphviz-2.38        | 29.3 MB   | ######8    |  68% \n",
      "graphviz-2.38        | 29.3 MB   | ######8    |  69% \n",
      "graphviz-2.38        | 29.3 MB   | ######9    |  69% \n",
      "graphviz-2.38        | 29.3 MB   | ######9    |  69% \n",
      "graphviz-2.38        | 29.3 MB   | ######9    |  70% \n",
      "graphviz-2.38        | 29.3 MB   | ######9    |  70% \n",
      "graphviz-2.38        | 29.3 MB   | #######    |  70% \n",
      "graphviz-2.38        | 29.3 MB   | #######    |  70% \n",
      "graphviz-2.38        | 29.3 MB   | #######    |  71% \n",
      "graphviz-2.38        | 29.3 MB   | #######    |  71% \n",
      "graphviz-2.38        | 29.3 MB   | #######1   |  71% \n",
      "graphviz-2.38        | 29.3 MB   | #######1   |  71% \n",
      "graphviz-2.38        | 29.3 MB   | #######1   |  72% \n",
      "graphviz-2.38        | 29.3 MB   | #######2   |  72% \n",
      "graphviz-2.38        | 29.3 MB   | #######2   |  72% \n",
      "graphviz-2.38        | 29.3 MB   | #######2   |  73% \n",
      "graphviz-2.38        | 29.3 MB   | #######2   |  73% \n",
      "graphviz-2.38        | 29.3 MB   | #######3   |  73% \n",
      "graphviz-2.38        | 29.3 MB   | #######3   |  73% \n",
      "graphviz-2.38        | 29.3 MB   | #######3   |  74% \n",
      "graphviz-2.38        | 29.3 MB   | #######3   |  74% \n",
      "graphviz-2.38        | 29.3 MB   | #######4   |  74% \n",
      "graphviz-2.38        | 29.3 MB   | #######4   |  74% \n",
      "graphviz-2.38        | 29.3 MB   | #######4   |  75% \n",
      "graphviz-2.38        | 29.3 MB   | #######4   |  75% \n",
      "graphviz-2.38        | 29.3 MB   | #######5   |  75% \n",
      "graphviz-2.38        | 29.3 MB   | #######5   |  75% \n",
      "graphviz-2.38        | 29.3 MB   | #######5   |  76% \n",
      "graphviz-2.38        | 29.3 MB   | #######6   |  76% \n",
      "graphviz-2.38        | 29.3 MB   | #######6   |  76% \n",
      "graphviz-2.38        | 29.3 MB   | #######6   |  77% \n",
      "graphviz-2.38        | 29.3 MB   | #######6   |  77% \n",
      "graphviz-2.38        | 29.3 MB   | #######7   |  77% \n",
      "graphviz-2.38        | 29.3 MB   | #######7   |  77% \n",
      "graphviz-2.38        | 29.3 MB   | #######7   |  78% \n",
      "graphviz-2.38        | 29.3 MB   | #######7   |  78% \n",
      "graphviz-2.38        | 29.3 MB   | #######8   |  78% \n",
      "graphviz-2.38        | 29.3 MB   | #######8   |  78% \n",
      "graphviz-2.38        | 29.3 MB   | #######8   |  79% \n",
      "graphviz-2.38        | 29.3 MB   | #######8   |  79% \n",
      "graphviz-2.38        | 29.3 MB   | #######9   |  79% \n",
      "graphviz-2.38        | 29.3 MB   | #######9   |  79% \n",
      "graphviz-2.38        | 29.3 MB   | #######9   |  80% \n",
      "graphviz-2.38        | 29.3 MB   | ########   |  80% \n",
      "graphviz-2.38        | 29.3 MB   | ########   |  80% \n",
      "graphviz-2.38        | 29.3 MB   | ########   |  81% \n",
      "graphviz-2.38        | 29.3 MB   | ########   |  81% \n",
      "graphviz-2.38        | 29.3 MB   | ########1  |  81% \n",
      "graphviz-2.38        | 29.3 MB   | ########1  |  81% \n",
      "graphviz-2.38        | 29.3 MB   | ########1  |  82% \n",
      "graphviz-2.38        | 29.3 MB   | ########1  |  82% \n",
      "graphviz-2.38        | 29.3 MB   | ########2  |  82% \n",
      "graphviz-2.38        | 29.3 MB   | ########2  |  82% \n",
      "graphviz-2.38        | 29.3 MB   | ########2  |  83% \n",
      "graphviz-2.38        | 29.3 MB   | ########2  |  83% \n",
      "graphviz-2.38        | 29.3 MB   | ########3  |  83% \n",
      "graphviz-2.38        | 29.3 MB   | ########3  |  83% \n",
      "graphviz-2.38        | 29.3 MB   | ########3  |  84% \n",
      "graphviz-2.38        | 29.3 MB   | ########4  |  84% \n",
      "graphviz-2.38        | 29.3 MB   | ########4  |  84% \n",
      "graphviz-2.38        | 29.3 MB   | ########4  |  85% \n",
      "graphviz-2.38        | 29.3 MB   | ########4  |  85% \n",
      "graphviz-2.38        | 29.3 MB   | ########5  |  85% \n",
      "graphviz-2.38        | 29.3 MB   | ########5  |  85% \n",
      "graphviz-2.38        | 29.3 MB   | ########5  |  86% \n",
      "graphviz-2.38        | 29.3 MB   | ########5  |  86% \n",
      "graphviz-2.38        | 29.3 MB   | ########6  |  86% \n",
      "graphviz-2.38        | 29.3 MB   | ########6  |  86% \n",
      "graphviz-2.38        | 29.3 MB   | ########6  |  87% \n",
      "graphviz-2.38        | 29.3 MB   | ########6  |  87% \n",
      "graphviz-2.38        | 29.3 MB   | ########7  |  87% \n",
      "graphviz-2.38        | 29.3 MB   | ########7  |  87% \n",
      "graphviz-2.38        | 29.3 MB   | ########7  |  88% \n",
      "graphviz-2.38        | 29.3 MB   | ########8  |  88% \n",
      "graphviz-2.38        | 29.3 MB   | ########8  |  88% \n",
      "graphviz-2.38        | 29.3 MB   | ########8  |  89% \n",
      "graphviz-2.38        | 29.3 MB   | ########8  |  89% \n",
      "graphviz-2.38        | 29.3 MB   | ########9  |  89% \n",
      "graphviz-2.38        | 29.3 MB   | ########9  |  89% \n",
      "graphviz-2.38        | 29.3 MB   | ########9  |  90% \n",
      "graphviz-2.38        | 29.3 MB   | ########9  |  90% \n",
      "graphviz-2.38        | 29.3 MB   | #########  |  90% \n",
      "graphviz-2.38        | 29.3 MB   | #########  |  90% \n",
      "graphviz-2.38        | 29.3 MB   | #########  |  91% \n",
      "graphviz-2.38        | 29.3 MB   | #########  |  91% \n",
      "graphviz-2.38        | 29.3 MB   | #########1 |  91% \n",
      "graphviz-2.38        | 29.3 MB   | #########1 |  91% \n",
      "graphviz-2.38        | 29.3 MB   | #########1 |  92% \n",
      "graphviz-2.38        | 29.3 MB   | #########2 |  92% \n",
      "graphviz-2.38        | 29.3 MB   | #########2 |  92% \n",
      "graphviz-2.38        | 29.3 MB   | #########2 |  93% \n",
      "graphviz-2.38        | 29.3 MB   | #########2 |  93% \n",
      "graphviz-2.38        | 29.3 MB   | #########3 |  93% \n",
      "graphviz-2.38        | 29.3 MB   | #########3 |  93% \n",
      "graphviz-2.38        | 29.3 MB   | #########3 |  94% \n",
      "graphviz-2.38        | 29.3 MB   | #########3 |  94% \n",
      "graphviz-2.38        | 29.3 MB   | #########4 |  94% \n",
      "graphviz-2.38        | 29.3 MB   | #########4 |  94% \n",
      "graphviz-2.38        | 29.3 MB   | #########4 |  95% \n",
      "graphviz-2.38        | 29.3 MB   | #########4 |  95% \n",
      "graphviz-2.38        | 29.3 MB   | #########5 |  95% \n",
      "graphviz-2.38        | 29.3 MB   | #########5 |  96% \n",
      "graphviz-2.38        | 29.3 MB   | #########5 |  96% \n",
      "graphviz-2.38        | 29.3 MB   | #########6 |  96% \n",
      "graphviz-2.38        | 29.3 MB   | #########6 |  96% \n",
      "graphviz-2.38        | 29.3 MB   | #########6 |  97% \n",
      "graphviz-2.38        | 29.3 MB   | #########6 |  97% \n",
      "graphviz-2.38        | 29.3 MB   | #########7 |  97% \n",
      "graphviz-2.38        | 29.3 MB   | #########7 |  97% \n",
      "graphviz-2.38        | 29.3 MB   | #########7 |  98% \n",
      "graphviz-2.38        | 29.3 MB   | #########7 |  98% \n",
      "graphviz-2.38        | 29.3 MB   | #########8 |  98% \n",
      "graphviz-2.38        | 29.3 MB   | #########8 |  99% \n",
      "graphviz-2.38        | 29.3 MB   | #########8 |  99% \n",
      "graphviz-2.38        | 29.3 MB   | #########9 |  99% \n",
      "graphviz-2.38        | 29.3 MB   | #########9 |  99% \n",
      "graphviz-2.38        | 29.3 MB   | #########9 | 100% \n",
      "graphviz-2.38        | 29.3 MB   | #########9 | 100% \n",
      "graphviz-2.38        | 29.3 MB   | ########## | 100% \n",
      "\n",
      "pydot-1.4.2          | 43 KB     |            |   0% \n",
      "pydot-1.4.2          | 43 KB     | ###7       |  37% \n",
      "pydot-1.4.2          | 43 KB     | ########## | 100% \n",
      "pydot-1.4.2          | 43 KB     | ########## | 100% \n",
      "Preparing transaction: ...working... done\n",
      "Verifying transaction: ...working... done\n",
      "Executing transaction: ...working... done\n"
     ]
    }
   ],
   "source": [
    "conda install -c conda-forge pydot  graphviz"
   ]
  },
  {
   "cell_type": "markdown",
   "metadata": {},
   "source": [
    "# Generating the diagram from model architecture"
   ]
  },
  {
   "cell_type": "code",
   "execution_count": 36,
   "metadata": {},
   "outputs": [
    {
     "data": {
      "image/png": "[encoded data removed]",
      "text/plain": [
       "<Figure size 2160x1080 with 1 Axes>"
      ]
     },
     "metadata": {
      "needs_background": "light"
     },
     "output_type": "display_data"
    }
   ],
   "source": [
    "from keras.utils.vis_utils import plot_model\n",
    "import matplotlib.image as mpimg\n",
    "# Save the model to the path\n",
    "#model_diagrams_path = \" \"\n",
    "# Generate the plot\n",
    "plot_model(model, to_file='model_plot.png', show_shapes=True, show_layer_names=True)\n",
    "# Show plot here\n",
    "img =mpimg.imread(\"model_plot.png\")\n",
    "plt.figure(figsize = (30, 15))\n",
    "imgplot = plt.imshow(img)"
   ]
  },
  {
   "cell_type": "code",
   "execution_count": null,
   "metadata": {},
   "outputs": [],
   "source": []
  }
 ],
 "metadata": {
  "kernelspec": {
   "display_name": "Python 3",
   "language": "python",
   "name": "python3"
  },
  "language_info": {
   "codemirror_mode": {
    "name": "ipython",
    "version": 3
   },
   "file_extension": ".py",
   "mimetype": "text/x-python",
   "name": "python",
   "nbconvert_exporter": "python",
   "pygments_lexer": "ipython3",
   "version": "3.8.5"
  }
 },
 "nbformat": 4,
 "nbformat_minor": 4
}
